{
 "cells": [
  {
   "cell_type": "markdown",
   "id": "0dc06693",
   "metadata": {},
   "source": [
    "# SEA Chart Pipeline\n",
    "<Add description here>"
   ]
  },
  {
   "cell_type": "markdown",
   "id": "cc180619",
   "metadata": {},
   "source": [
    "## Setup"
   ]
  },
  {
   "cell_type": "code",
   "execution_count": 8,
   "id": "22969abf-7d5a-416f-9c62-dc9f2713d6a7",
   "metadata": {},
   "outputs": [],
   "source": [
    "# Import Dependencies\n",
    "import json\n",
    "\n",
    "# Import functions for chart processing \n",
    "import charts_functions as cf\n",
    "\n",
    "# Declare I/O Paths\n",
    "path_in_metadata = \"../02_Inputs/Metadata/Charts/Charts Tracker Test.xlsx\"\n",
    "path_in_datasets = \"../02_Inputs/Data/Charts\"\n",
    "path_out_charts_data_json = \"../03_Outputs/Charts/charts_data.json\"\n",
    "path_charts_template_folder = \"../02_Inputs/Templates\"\n",
    "path_styling_data = \"../02_Inputs/Metadata/Charts/charts_styling.json\"\n",
    "path_chart_output = \"../03_Outputs/Charts\"\n"
   ]
  },
  {
   "cell_type": "markdown",
   "id": "aba0482c",
   "metadata": {},
   "source": [
    "## Extract Chart data"
   ]
  },
  {
   "cell_type": "code",
   "execution_count": 9,
   "id": "75254eea",
   "metadata": {},
   "outputs": [
    {
     "name": "stderr",
     "output_type": "stream",
     "text": [
      "/home/fschi/miniconda3/envs/dsc-energy-academy-data/lib/python3.13/site-packages/openpyxl/worksheet/_read_only.py:85: UserWarning: Data Validation extension is not supported and will be removed\n",
      "  for idx, row in parser.parse():\n"
     ]
    },
    {
     "name": "stdout",
     "output_type": "stream",
     "text": [
      "\n",
      "✅ Saved combined charts data/metadata to: ../03_Outputs/Charts/charts_data.json\n"
     ]
    }
   ],
   "source": [
    "# Import Metadata/Datasets\n",
    "metadata = cf.extract_metadata(path_in_metadata)\n",
    "datasets = cf.extract_dataset(path_in_datasets)\n",
    "\n",
    "# Merge Metada/Datasets for each Chart into one Dictionary for all Charts\n",
    "charts = cf.merge_data_metadata(metadata, datasets, path_out_charts_data_json)\n",
    "\n",
    "# Save Dictionary to Device\n",
    "with open(path_out_charts_data_json, \"w\", encoding=\"utf-8\") as f:\n",
    "    json.dump(charts, f, indent=2, ensure_ascii=False)\n",
    "print(f\"\\n✅ Saved combined charts data/metadata to: {path_out_charts_data_json}\")"
   ]
  },
  {
   "cell_type": "markdown",
   "id": "c52fff14",
   "metadata": {},
   "source": [
    "## Generate Charts"
   ]
  },
  {
   "cell_type": "code",
   "execution_count": 10,
   "id": "448d283c",
   "metadata": {},
   "outputs": [
    {
     "name": "stdout",
     "output_type": "stream",
     "text": [
      "Generating chart for M1_C1_8...\n",
      "Title: Energy and Climate Change\n",
      "Saved chart to ../03_Outputs/Charts/M1_C1_8_pie_chart.json\n",
      "Generating chart for M1_C1_13...\n",
      "Title: Installed capacity for renewable electricity generation, 2015 and 2022 (watts per capita)\n",
      "Saved chart to ../03_Outputs/Charts/M1_C1_13_bar_chart.json\n",
      "Generating chart for M1_C1_13b...\n",
      "Title: Installed capacity for renewable electricity generation, 2015 and 2022 (watts per capita)\n",
      "Saved chart to ../03_Outputs/Charts/M1_C1_13b_category_bar_chart.json\n"
     ]
    }
   ],
   "source": [
    "# Load charts data\n",
    "try:\n",
    "    with open(path_out_charts_data_json, 'r', encoding='utf-8') as f:\n",
    "        charts_data = json.load(f)\n",
    "except FileNotFoundError:\n",
    "    print(f\"Error: File not found at {path_out_charts_data_json}\")\n",
    "except json.JSONDecodeError as e:\n",
    "    print(f\"Error decoding JSON (charts): {e}\")\n",
    "\n",
    "\n",
    "# Load styling data\n",
    "try:\n",
    "    with open(path_styling_data, 'r', encoding='utf-8') as f:\n",
    "        styling_data = json.load(f)\n",
    "except FileNotFoundError:\n",
    "    print(f\"Error: File not found at {path_styling_data}\")\n",
    "except json.JSONDecodeError as e:\n",
    "    print(f\"Error decoding JSON (styling): {e}\")\n",
    "\n",
    "# Execute chart creation function\n",
    "cf.process_charts(charts_data=charts_data, styling_data=styling_data, template_folder_path=path_charts_template_folder, output_dir=path_chart_output)"
   ]
  }
 ],
 "metadata": {
  "kernelspec": {
   "display_name": "dsc-energy-academy-data",
   "language": "python",
   "name": "python3"
  },
  "language_info": {
   "codemirror_mode": {
    "name": "ipython",
    "version": 3
   },
   "file_extension": ".py",
   "mimetype": "text/x-python",
   "name": "python",
   "nbconvert_exporter": "python",
   "pygments_lexer": "ipython3",
   "version": "3.13.2"
  }
 },
 "nbformat": 4,
 "nbformat_minor": 5
}
